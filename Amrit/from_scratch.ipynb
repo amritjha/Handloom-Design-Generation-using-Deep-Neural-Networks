{
 "cells": [
  {
   "cell_type": "code",
   "execution_count": 7,
   "metadata": {},
   "outputs": [
    {
     "name": "stderr",
     "output_type": "stream",
     "text": [
      "Using TensorFlow backend.\n",
      "/home/amrit/anaconda3/lib/python3.6/site-packages/requests/__init__.py:80: RequestsDependencyWarning: urllib3 (1.23) or chardet (3.0.4) doesn't match a supported version!\n",
      "  RequestsDependencyWarning)\n"
     ]
    }
   ],
   "source": [
    "import os\n",
    "from keras import backend as K\n",
    "from keras.engine.topology import Layer\n",
    "from keras.models import Model\n",
    "from keras.layers import Input, merge, BatchNormalization, Activation\n",
    "from keras.layers.convolutional import Convolution2D, AveragePooling2D, MaxPooling2D, Deconvolution2D, Cropping2D"
   ]
  },
  {
   "cell_type": "code",
   "execution_count": null,
   "metadata": {
    "collapsed": true
   },
   "outputs": [],
   "source": [
    "#VCC16 function"
   ]
  },
  {
   "cell_type": "code",
   "execution_count": 8,
   "metadata": {
    "collapsed": true
   },
   "outputs": [],
   "source": [
    "class Denormalize(Layer):\n",
    "    '''Custom layer to denormalize the final Convolution layer activations (tanh)\n",
    "    Since tanh scales the output to the range (-1, 1), we add 1 to bring it to the\n",
    "    range (0, 2). We then multiply it by 127.5 to scale the values to the range (0, 255)'''\n",
    "\n",
    "    def __init__(self, **kwargs):\n",
    "        super(Denormalize, self).__init__(**kwargs)\n",
    "\n",
    "    def build(self, input_shape):\n",
    "        pass\n",
    "\n",
    "    def call(self, x, mask=None):\n",
    "        #Scales the tanh output activations from previous layer (-1, 1) to the range (0, 255)\n",
    "\n",
    "        return (x + 1) * 127.5\n",
    "\n",
    "    def get_output_shape_for(self, input_shape):\n",
    "        return input_shape"
   ]
  },
  {
   "cell_type": "code",
   "execution_count": 9,
   "metadata": {
    "collapsed": true
   },
   "outputs": [],
   "source": [
    "def ResidualBlock(ip, id):\n",
    "    init = ip\n",
    "\n",
    "    #x = ReflectionPadding2D()(ip)\n",
    "    x = Convolution2D(128, 3, 3, activation='linear', border_mode='valid', name='res_conv_' + str(id) + '_1')(ip)\n",
    "    x = BatchNormalization(axis=1, name=\"res_batchnorm_\" + str(id) + \"_1\")(x)\n",
    "    x = Activation('relu', name=\"res_activation_\" + str(id) + \"_1\")(x)\n",
    "\n",
    "    #x = ReflectionPadding2D()(x)\n",
    "    x = Convolution2D(128, 3, 3, activation='linear', border_mode='valid', name='res_conv_' + str(id) + '_2')(x)\n",
    "    x = BatchNormalization(axis=1, name=\"res_batchnorm_\" + str(id) + \"_2\")(x)\n",
    "\n",
    "    m = merge([x, init], mode='sum', name=\"res_merge_\" + str(id))\n",
    "    #m = Activation('relu', name=\"res_activation_\" + str(id))(m)\n",
    "\n",
    "    return m"
   ]
  },
  {
   "cell_type": "code",
   "execution_count": 13,
   "metadata": {},
   "outputs": [],
   "source": [
    "def ImageTransformationNet(deep_model=True):\n",
    "\n",
    "    ip = Input(shape=(256, 256, 3), name=\"X_input\")\n",
    "    #c1 = ReflectionPadding2D((4, 4))(ip)\n",
    "\n",
    "    c1 = Convolution2D(32, 9, 9, activation='linear', border_mode='valid', name='conv1')(ip)\n",
    "    c1_b = BatchNormalization(axis=1, name=\"batchnorm1\")(c1)\n",
    "    c1_b = Activation('relu')(c1_b)\n",
    "\n",
    "    c2 = Convolution2D(128, 3, 3, activation='linear', border_mode='same', subsample=(2, 2), name='conv2')(c1_b)\n",
    "    c2_b = BatchNormalization(axis=1, name=\"batchnorm2\")(c2)\n",
    "    c2_b = Activation('relu')(c2_b)\n",
    "\n",
    "    c3 = Convolution2D(128, 3, 2, activation='linear', border_mode='same', subsample=(2, 2), name='conv3')(c2_b)\n",
    "    x = BatchNormalization(axis=1, name=\"batchnorm3\")(c3)\n",
    "    x = Activation('relu')(x)\n",
    "\n",
    "    if deep_model:\n",
    "        c4 = Convolution2D(128, 3, 3, activation='linear', border_mode='same', subsample=(2, 2), name='conv4')(x)\n",
    "        x = BatchNormalization(axis=1, name=\"batchnorm_4\")(c4)\n",
    "        x = Activation('relu')(x)\n",
    "\n",
    "    r1 = ResidualBlock(x, 1)\n",
    "    r2 = ResidualBlock(r1, 2)\n",
    "    r3 = ResidualBlock(r2, 3)\n",
    "    r4 = ResidualBlock(r3, 4)\n",
    "    x = ResidualBlock(r4, 5)\n",
    "\n",
    "    if deep_model:\n",
    "        d4 = Deconvolution2D(128, 3, 3, activation=\"linear\", border_mode=\"same\", subsample=(2, 2),\n",
    "                             output_shape=(1, 64, 256 // 4, 256 // 4), name=\"deconv4\")(x)\n",
    "\n",
    "        x = BatchNormalization(axis=1, name=\"batchnorm_extra4\")(d4)\n",
    "        x = Activation('relu')(x)\n",
    "\n",
    "    d3 = Deconvolution2D(128, 3, 3, activation=\"linear\", border_mode=\"same\", subsample=(2, 2),\n",
    "                         output_shape=(1, 128, 256 // 2, 256 // 2),\n",
    "                         name=\"deconv3\")(x)\n",
    "\n",
    "    d3 = BatchNormalization(axis=1, name=\"batchnorm4\")(d3)\n",
    "    d3 = Activation('relu')(d3)\n",
    "\n",
    "    d2 = Deconvolution2D(128, 3, 3, activation=\"linear\", border_mode=\"same\", subsample=(2, 2),\n",
    "                         output_shape=(1, 128, 256, 256), name=\"deconv2\")(d3)\n",
    "\n",
    "    d2 = BatchNormalization(axis=1, name=\"batchnorm5\")(d2)\n",
    "    d2 = Activation('relu')(d2)\n",
    "\n",
    "    #d1 = ReflectionPadding2D((4, 4))(d2)\n",
    "    d1 = Convolution2D(3, 9, 9, activation='tanh', border_mode='valid', name='fastnet_conv')(d1)\n",
    "\n",
    "    # Scale output to range [0, 255] via custom Denormalize layer\n",
    "    d1 = Denormalize(name='fastnet_output')(d1)\n",
    "\n",
    "    model = Model(ip, d1)"
   ]
  },
  {
   "cell_type": "code",
   "execution_count": 14,
   "metadata": {},
   "outputs": [
    {
     "name": "stderr",
     "output_type": "stream",
     "text": [
      "/home/amrit/anaconda3/lib/python3.6/site-packages/ipykernel_launcher.py:6: UserWarning: Update your `Conv2D` call to the Keras 2 API: `Conv2D(32, (9, 9), activation=\"linear\", name=\"conv1\", padding=\"valid\")`\n",
      "  \n",
      "/home/amrit/anaconda3/lib/python3.6/site-packages/ipykernel_launcher.py:10: UserWarning: Update your `Conv2D` call to the Keras 2 API: `Conv2D(128, (3, 3), activation=\"linear\", name=\"conv2\", strides=(2, 2), padding=\"same\")`\n",
      "  # Remove the CWD from sys.path while we load stuff.\n",
      "/home/amrit/anaconda3/lib/python3.6/site-packages/ipykernel_launcher.py:14: UserWarning: Update your `Conv2D` call to the Keras 2 API: `Conv2D(128, (3, 2), activation=\"linear\", name=\"conv3\", strides=(2, 2), padding=\"same\")`\n",
      "  \n",
      "/home/amrit/anaconda3/lib/python3.6/site-packages/ipykernel_launcher.py:19: UserWarning: Update your `Conv2D` call to the Keras 2 API: `Conv2D(128, (3, 3), activation=\"linear\", name=\"conv4\", strides=(2, 2), padding=\"same\")`\n",
      "/home/amrit/anaconda3/lib/python3.6/site-packages/ipykernel_launcher.py:5: UserWarning: Update your `Conv2D` call to the Keras 2 API: `Conv2D(128, (3, 3), activation=\"linear\", name=\"res_conv_1_1\", padding=\"valid\")`\n",
      "  \"\"\"\n",
      "/home/amrit/anaconda3/lib/python3.6/site-packages/ipykernel_launcher.py:10: UserWarning: Update your `Conv2D` call to the Keras 2 API: `Conv2D(128, (3, 3), activation=\"linear\", name=\"res_conv_1_2\", padding=\"valid\")`\n",
      "  # Remove the CWD from sys.path while we load stuff.\n",
      "/home/amrit/anaconda3/lib/python3.6/site-packages/ipykernel_launcher.py:13: UserWarning: The `merge` function is deprecated and will be removed after 08/2017. Use instead layers from `keras.layers.merge`, e.g. `add`, `concatenate`, etc.\n",
      "  del sys.path[0]\n",
      "/home/amrit/anaconda3/lib/python3.6/site-packages/keras/legacy/layers.py:464: UserWarning: The `Merge` layer is deprecated and will be removed after 08/2017. Use instead layers from `keras.layers.merge`, e.g. `add`, `concatenate`, etc.\n",
      "  name=name)\n"
     ]
    },
    {
     "ename": "ValueError",
     "evalue": "Only layers of same output shape can be merged using sum mode. Layer shapes: [(None, 27, 27, 128), (None, 31, 31, 128)]",
     "output_type": "error",
     "traceback": [
      "\u001b[0;31m---------------------------------------------------------------------------\u001b[0m",
      "\u001b[0;31mValueError\u001b[0m                                Traceback (most recent call last)",
      "\u001b[0;32m<ipython-input-14-5ad8a28c5abe>\u001b[0m in \u001b[0;36m<module>\u001b[0;34m()\u001b[0m\n\u001b[0;32m----> 1\u001b[0;31m \u001b[0mmodel\u001b[0m \u001b[0;34m=\u001b[0m \u001b[0mImageTransformationNet\u001b[0m\u001b[0;34m(\u001b[0m\u001b[0;34m)\u001b[0m\u001b[0;34m\u001b[0m\u001b[0m\n\u001b[0m",
      "\u001b[0;32m<ipython-input-13-426aed7780c3>\u001b[0m in \u001b[0;36mImageTransformationNet\u001b[0;34m(deep_model)\u001b[0m\n\u001b[1;32m     21\u001b[0m         \u001b[0mx\u001b[0m \u001b[0;34m=\u001b[0m \u001b[0mActivation\u001b[0m\u001b[0;34m(\u001b[0m\u001b[0;34m'relu'\u001b[0m\u001b[0;34m)\u001b[0m\u001b[0;34m(\u001b[0m\u001b[0mx\u001b[0m\u001b[0;34m)\u001b[0m\u001b[0;34m\u001b[0m\u001b[0m\n\u001b[1;32m     22\u001b[0m \u001b[0;34m\u001b[0m\u001b[0m\n\u001b[0;32m---> 23\u001b[0;31m     \u001b[0mr1\u001b[0m \u001b[0;34m=\u001b[0m \u001b[0mResidualBlock\u001b[0m\u001b[0;34m(\u001b[0m\u001b[0mx\u001b[0m\u001b[0;34m,\u001b[0m \u001b[0;36m1\u001b[0m\u001b[0;34m)\u001b[0m\u001b[0;34m\u001b[0m\u001b[0m\n\u001b[0m\u001b[1;32m     24\u001b[0m     \u001b[0mr2\u001b[0m \u001b[0;34m=\u001b[0m \u001b[0mResidualBlock\u001b[0m\u001b[0;34m(\u001b[0m\u001b[0mr1\u001b[0m\u001b[0;34m,\u001b[0m \u001b[0;36m2\u001b[0m\u001b[0;34m)\u001b[0m\u001b[0;34m\u001b[0m\u001b[0m\n\u001b[1;32m     25\u001b[0m     \u001b[0mr3\u001b[0m \u001b[0;34m=\u001b[0m \u001b[0mResidualBlock\u001b[0m\u001b[0;34m(\u001b[0m\u001b[0mr2\u001b[0m\u001b[0;34m,\u001b[0m \u001b[0;36m3\u001b[0m\u001b[0;34m)\u001b[0m\u001b[0;34m\u001b[0m\u001b[0m\n",
      "\u001b[0;32m<ipython-input-9-f3f2a4d8bac8>\u001b[0m in \u001b[0;36mResidualBlock\u001b[0;34m(ip, id)\u001b[0m\n\u001b[1;32m     11\u001b[0m     \u001b[0mx\u001b[0m \u001b[0;34m=\u001b[0m \u001b[0mBatchNormalization\u001b[0m\u001b[0;34m(\u001b[0m\u001b[0maxis\u001b[0m\u001b[0;34m=\u001b[0m\u001b[0;36m1\u001b[0m\u001b[0;34m,\u001b[0m \u001b[0mname\u001b[0m\u001b[0;34m=\u001b[0m\u001b[0;34m\"res_batchnorm_\"\u001b[0m \u001b[0;34m+\u001b[0m \u001b[0mstr\u001b[0m\u001b[0;34m(\u001b[0m\u001b[0mid\u001b[0m\u001b[0;34m)\u001b[0m \u001b[0;34m+\u001b[0m \u001b[0;34m\"_2\"\u001b[0m\u001b[0;34m)\u001b[0m\u001b[0;34m(\u001b[0m\u001b[0mx\u001b[0m\u001b[0;34m)\u001b[0m\u001b[0;34m\u001b[0m\u001b[0m\n\u001b[1;32m     12\u001b[0m \u001b[0;34m\u001b[0m\u001b[0m\n\u001b[0;32m---> 13\u001b[0;31m     \u001b[0mm\u001b[0m \u001b[0;34m=\u001b[0m \u001b[0mmerge\u001b[0m\u001b[0;34m(\u001b[0m\u001b[0;34m[\u001b[0m\u001b[0mx\u001b[0m\u001b[0;34m,\u001b[0m \u001b[0minit\u001b[0m\u001b[0;34m]\u001b[0m\u001b[0;34m,\u001b[0m \u001b[0mmode\u001b[0m\u001b[0;34m=\u001b[0m\u001b[0;34m'sum'\u001b[0m\u001b[0;34m,\u001b[0m \u001b[0mname\u001b[0m\u001b[0;34m=\u001b[0m\u001b[0;34m\"res_merge_\"\u001b[0m \u001b[0;34m+\u001b[0m \u001b[0mstr\u001b[0m\u001b[0;34m(\u001b[0m\u001b[0mid\u001b[0m\u001b[0;34m)\u001b[0m\u001b[0;34m)\u001b[0m\u001b[0;34m\u001b[0m\u001b[0m\n\u001b[0m\u001b[1;32m     14\u001b[0m     \u001b[0;31m#m = Activation('relu', name=\"res_activation_\" + str(id))(m)\u001b[0m\u001b[0;34m\u001b[0m\u001b[0;34m\u001b[0m\u001b[0m\n\u001b[1;32m     15\u001b[0m \u001b[0;34m\u001b[0m\u001b[0m\n",
      "\u001b[0;32m~/anaconda3/lib/python3.6/site-packages/keras/legacy/layers.py\u001b[0m in \u001b[0;36mmerge\u001b[0;34m(inputs, mode, concat_axis, dot_axes, output_shape, output_mask, arguments, name)\u001b[0m\n\u001b[1;32m    462\u001b[0m                             \u001b[0mnode_indices\u001b[0m\u001b[0;34m=\u001b[0m\u001b[0mnode_indices\u001b[0m\u001b[0;34m,\u001b[0m\u001b[0;34m\u001b[0m\u001b[0m\n\u001b[1;32m    463\u001b[0m                             \u001b[0mtensor_indices\u001b[0m\u001b[0;34m=\u001b[0m\u001b[0mtensor_indices\u001b[0m\u001b[0;34m,\u001b[0m\u001b[0;34m\u001b[0m\u001b[0m\n\u001b[0;32m--> 464\u001b[0;31m                             name=name)\n\u001b[0m\u001b[1;32m    465\u001b[0m         \u001b[0;32mreturn\u001b[0m \u001b[0mmerge_layer\u001b[0m\u001b[0;34m.\u001b[0m\u001b[0m_inbound_nodes\u001b[0m\u001b[0;34m[\u001b[0m\u001b[0;36m0\u001b[0m\u001b[0;34m]\u001b[0m\u001b[0;34m.\u001b[0m\u001b[0moutput_tensors\u001b[0m\u001b[0;34m[\u001b[0m\u001b[0;36m0\u001b[0m\u001b[0;34m]\u001b[0m\u001b[0;34m\u001b[0m\u001b[0m\n\u001b[1;32m    466\u001b[0m     \u001b[0;32melse\u001b[0m\u001b[0;34m:\u001b[0m\u001b[0;34m\u001b[0m\u001b[0m\n",
      "\u001b[0;32m~/anaconda3/lib/python3.6/site-packages/keras/legacy/layers.py\u001b[0m in \u001b[0;36m__init__\u001b[0;34m(self, layers, mode, concat_axis, dot_axes, output_shape, output_mask, arguments, node_indices, tensor_indices, name)\u001b[0m\n\u001b[1;32m    115\u001b[0m             self._arguments_validation(layers, mode,\n\u001b[1;32m    116\u001b[0m                                        \u001b[0mconcat_axis\u001b[0m\u001b[0;34m,\u001b[0m \u001b[0mdot_axes\u001b[0m\u001b[0;34m,\u001b[0m\u001b[0;34m\u001b[0m\u001b[0m\n\u001b[0;32m--> 117\u001b[0;31m                                        node_indices, tensor_indices)\n\u001b[0m\u001b[1;32m    118\u001b[0m             \u001b[0mself\u001b[0m\u001b[0;34m.\u001b[0m\u001b[0mbuilt\u001b[0m \u001b[0;34m=\u001b[0m \u001b[0;32mTrue\u001b[0m\u001b[0;34m\u001b[0m\u001b[0m\n\u001b[1;32m    119\u001b[0m             \u001b[0minput_tensors\u001b[0m \u001b[0;34m=\u001b[0m \u001b[0;34m[\u001b[0m\u001b[0;34m]\u001b[0m\u001b[0;34m\u001b[0m\u001b[0m\n",
      "\u001b[0;32m~/anaconda3/lib/python3.6/site-packages/keras/legacy/layers.py\u001b[0m in \u001b[0;36m_arguments_validation\u001b[0;34m(self, layers, mode, concat_axis, dot_axes, node_indices, tensor_indices)\u001b[0m\n\u001b[1;32m    159\u001b[0m                 raise ValueError('Only layers of same output shape can '\n\u001b[1;32m    160\u001b[0m                                  \u001b[0;34m'be merged using '\u001b[0m \u001b[0;34m+\u001b[0m \u001b[0mmode\u001b[0m \u001b[0;34m+\u001b[0m \u001b[0;34m' mode. '\u001b[0m \u001b[0;34m+\u001b[0m\u001b[0;34m\u001b[0m\u001b[0m\n\u001b[0;32m--> 161\u001b[0;31m                                  'Layer shapes: %s' % input_shapes)\n\u001b[0m\u001b[1;32m    162\u001b[0m         \u001b[0;32mif\u001b[0m \u001b[0mmode\u001b[0m \u001b[0;32min\u001b[0m \u001b[0;34m{\u001b[0m\u001b[0;34m'cos'\u001b[0m\u001b[0;34m,\u001b[0m \u001b[0;34m'dot'\u001b[0m\u001b[0;34m}\u001b[0m\u001b[0;34m:\u001b[0m\u001b[0;34m\u001b[0m\u001b[0m\n\u001b[1;32m    163\u001b[0m             \u001b[0;32mif\u001b[0m \u001b[0mlen\u001b[0m\u001b[0;34m(\u001b[0m\u001b[0mlayers\u001b[0m\u001b[0;34m)\u001b[0m \u001b[0;34m>\u001b[0m \u001b[0;36m2\u001b[0m\u001b[0;34m:\u001b[0m\u001b[0;34m\u001b[0m\u001b[0m\n",
      "\u001b[0;31mValueError\u001b[0m: Only layers of same output shape can be merged using sum mode. Layer shapes: [(None, 27, 27, 128), (None, 31, 31, 128)]"
     ]
    }
   ],
   "source": [
    "model = ImageTransformationNet()"
   ]
  },
  {
   "cell_type": "code",
   "execution_count": 5,
   "metadata": {
    "collapsed": true
   },
   "outputs": [],
   "source": [
    "def main():\n",
    "    style_image = './dataset/style_images/'\n",
    "    training_images = './dataset/training_images/'\n"
   ]
  },
  {
   "cell_type": "code",
   "execution_count": 6,
   "metadata": {},
   "outputs": [
    {
     "name": "stdout",
     "output_type": "stream",
     "text": [
      "img_13090.jpg\n",
      "img_41317.jpg\n",
      "img_20427.jpg\n",
      "img_27328.jpg\n",
      "img_31913.jpg\n",
      "img_37550.jpg\n",
      "img_24350.jpg\n",
      "img_27302.jpg\n",
      "img_14813.jpg\n",
      "img_10289.jpg\n",
      "img_45212.jpg\n",
      "img_19006.jpg\n",
      "img_34623.jpg\n",
      "img_32110.jpg\n",
      "img_22391.jpg\n",
      "img_37186.jpg\n",
      "img_15849.jpg\n",
      "img_43092.jpg\n",
      "img_12323.jpg\n",
      "img_10694.jpg\n",
      "img_1319.jpg\n",
      "img_14637.jpg\n",
      "img_44618.jpg\n",
      "img_44571.jpg\n",
      "img_25254.jpg\n",
      "img_22515.jpg\n",
      "img_12881.jpg\n",
      "img_41610.jpg\n",
      "img_26897.jpg\n",
      "img_37607.jpg\n",
      "img_47512.jpg\n",
      "img_22266.jpg\n",
      "img_40817.jpg\n",
      "img_3282.jpg\n",
      "img_3087.jpg\n",
      "img_26951.jpg\n",
      "img_2631.jpg\n",
      "img_1168.jpg\n",
      "img_46546.jpg\n",
      "img_4341.jpg\n",
      "img_4659.jpg\n",
      "img_25703.jpg\n",
      "img_46317.jpg\n",
      "img_31760.jpg\n",
      "img_35013.jpg\n",
      "img_31718.jpg\n",
      "img_15359.jpg\n",
      "img_42541.jpg\n",
      "img_23606.jpg\n",
      "img_38042.jpg\n",
      "img_405.jpg\n",
      "img_17947.jpg\n",
      "img_3270.jpg\n",
      "img_44200.jpg\n",
      "img_2759.jpg\n",
      "img_33928.jpg\n",
      "img_21215.jpg\n",
      "img_20652.jpg\n",
      "img_42739.jpg\n",
      "img_289.jpg\n",
      "img_46343.jpg\n",
      "img_37084.jpg\n",
      "img_10680.jpg\n",
      "img_19515.jpg\n",
      "img_39949.jpg\n",
      "img_18986.jpg\n",
      "img_16251.jpg\n",
      "img_41893.jpg\n",
      "img_31041.jpg\n",
      "img_28061.jpg\n",
      "img_2605.jpg\n",
      "img_47035.jpg\n",
      "img_3729.jpg\n",
      "img_29645.jpg\n",
      "img_28519.jpg\n",
      "img_12407.jpg\n",
      "img_38045.jpg\n",
      "img_11113.jpg\n",
      "img_31013.jpg\n",
      "img_34548.jpg\n",
      "img_32950.jpg\n",
      "img_25632.jpg\n",
      "img_35930.jpg\n",
      "img_33451.jpg\n",
      "img_24170.jpg\n",
      "img_16836.jpg\n",
      "img_39038.jpg\n",
      "img_44823.jpg\n",
      "img_16560.jpg\n",
      "img_42640.jpg\n",
      "img_10293.jpg\n",
      "img_33685.jpg\n",
      "img_15733.jpg\n",
      "img_27838.jpg\n",
      "img_23262.jpg\n",
      "img_27779.jpg\n",
      "img_46582.jpg\n",
      "img_30637.jpg\n",
      "img_44744.jpg\n",
      "img_26257.jpg\n",
      "img_36730.jpg\n",
      "img_24780.jpg\n",
      "img_33446.jpg\n",
      "img_26406.jpg\n",
      "img_36595.jpg\n",
      "img_40411.jpg\n",
      "img_41797.jpg\n",
      "img_42652.jpg\n",
      "img_22716.jpg\n",
      "img_15235.jpg\n",
      "img_39751.jpg\n",
      "img_33745.jpg\n",
      "img_23355.jpg\n",
      "img_16109.jpg\n",
      "img_27599.jpg\n",
      "img_17189.jpg\n",
      "img_18278.jpg\n",
      "img_27865.jpg\n",
      "img_427.jpg\n",
      "img_29643.jpg\n",
      "img_32593.jpg\n",
      "img_19051.jpg\n",
      "img_19115.jpg\n",
      "img_13561.jpg\n",
      "img_19165.jpg\n",
      "img_23988.jpg\n",
      "img_15768.jpg\n",
      "img_23058.jpg\n",
      "img_21964.jpg\n"
     ]
    }
   ],
   "source": [
    "if __name__ == '__main__':\n",
    "    main()"
   ]
  },
  {
   "cell_type": "code",
   "execution_count": null,
   "metadata": {
    "collapsed": true
   },
   "outputs": [],
   "source": []
  }
 ],
 "metadata": {
  "kernelspec": {
   "display_name": "Python 3",
   "language": "python",
   "name": "python3"
  },
  "language_info": {
   "codemirror_mode": {
    "name": "ipython",
    "version": 3
   },
   "file_extension": ".py",
   "mimetype": "text/x-python",
   "name": "python",
   "nbconvert_exporter": "python",
   "pygments_lexer": "ipython3",
   "version": "3.6.3"
  }
 },
 "nbformat": 4,
 "nbformat_minor": 2
}
